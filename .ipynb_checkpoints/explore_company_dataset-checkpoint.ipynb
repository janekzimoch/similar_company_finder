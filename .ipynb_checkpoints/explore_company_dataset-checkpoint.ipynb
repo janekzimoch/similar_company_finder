{
 "cells": [
  {
   "cell_type": "code",
   "execution_count": 43,
   "id": "2a97f7bf-2f30-4e18-a059-9f6e44bee5f3",
   "metadata": {},
   "outputs": [],
   "source": [
    "import pandas as pd\n",
    "import requests\n",
    "from tqdm import tqdm\n",
    "import re\n",
    "pd.set_option('display.max_columns', 100)"
   ]
  },
  {
   "cell_type": "markdown",
   "id": "b2ff2424-85e8-45c6-b550-64ee14b64aad",
   "metadata": {},
   "source": [
    "### get data"
   ]
  },
  {
   "cell_type": "code",
   "execution_count": 67,
   "id": "e40ba303-bc18-40d6-82c7-a38bb2a63340",
   "metadata": {},
   "outputs": [
    {
     "name": "stderr",
     "output_type": "stream",
     "text": [
      "/var/folders/70/xy86ymm940796lf7988yvm9h0000gn/T/ipykernel_7689/3802375698.py:1: DtypeWarning: Columns (41,42,43,44,45,46,47,48,49,50,51,52) have mixed types. Specify dtype option on import or set low_memory=False.\n",
      "  df = pd.read_csv('../DATA/similar_company_finder/company_house_data_part_1_7.csv')\n"
     ]
    }
   ],
   "source": [
    "df = pd.read_csv('../DATA/similar_company_finder/company_house_data_part_1_7.csv')\n",
    "df = df.rename(columns={'CompanyName': 'name', 'SICCode.SicText_1': 'sector_long'})\n",
    "df = df[['name', 'sector_long']]\n",
    "df = df[df['sector_long'] != 'None Supplied']  # remove samples with no sector provided"
   ]
  },
  {
   "cell_type": "code",
   "execution_count": 71,
   "id": "a6796326-71a3-4622-9af5-56b35bb7df11",
   "metadata": {},
   "outputs": [
    {
     "data": {
      "text/plain": [
       "0           heal ur tech\n",
       "3    big impact graphics\n",
       "4                goberub\n",
       "5               nfogenie\n",
       "6                  nnov8\n",
       "Name: name, dtype: object"
      ]
     },
     "execution_count": 71,
     "metadata": {},
     "output_type": "execute_result"
    }
   ],
   "source": [
    "df['name'] = df['name'].apply(lambda x: x.lower())\n",
    "df['name'] = df['name'].apply(lambda x: re.sub('ltd|limited', '', x))  # remove ltd or limited\n",
    "df['name'] = df['name'].apply(lambda x: re.sub('[!?]', '', x))  # remove all ! and ? characters\n",
    "df['name'] = df['name'].apply(lambda x: re.sub('\\A\\s+', '', x))  # remove all leading whitespace\n",
    "df['name'] = df['name'].apply(lambda x: re.sub('\\s+\\Z', '', x))  # remove trailing whitespace\n",
    "df = df[df['name'] != '']  # remove all rows whit ambigious 'ltd' company name - found manually (note ltd was already removed)\n",
    "df['name'].head()"
   ]
  },
  {
   "cell_type": "code",
   "execution_count": 68,
   "id": "7860ec0f-10ac-42a0-af7a-08efff6430c1",
   "metadata": {},
   "outputs": [
    {
     "data": {
      "text/html": [
       "<div>\n",
       "<style scoped>\n",
       "    .dataframe tbody tr th:only-of-type {\n",
       "        vertical-align: middle;\n",
       "    }\n",
       "\n",
       "    .dataframe tbody tr th {\n",
       "        vertical-align: top;\n",
       "    }\n",
       "\n",
       "    .dataframe thead th {\n",
       "        text-align: right;\n",
       "    }\n",
       "</style>\n",
       "<table border=\"1\" class=\"dataframe\">\n",
       "  <thead>\n",
       "    <tr style=\"text-align: right;\">\n",
       "      <th></th>\n",
       "      <th>name</th>\n",
       "      <th>sector_long</th>\n",
       "    </tr>\n",
       "  </thead>\n",
       "  <tbody>\n",
       "    <tr>\n",
       "      <th>529071</th>\n",
       "      <td>BARK 'N' RENDER LTD</td>\n",
       "      <td>56290 - Other food services</td>\n",
       "    </tr>\n",
       "    <tr>\n",
       "      <th>556971</th>\n",
       "      <td>BEA HERBERT LIMITED</td>\n",
       "      <td>74909 - Other professional, scientific and tec...</td>\n",
       "    </tr>\n",
       "  </tbody>\n",
       "</table>\n",
       "</div>"
      ],
      "text/plain": [
       "                       name                                        sector_long\n",
       "529071  BARK 'N' RENDER LTD                        56290 - Other food services\n",
       "556971  BEA HERBERT LIMITED  74909 - Other professional, scientific and tec..."
      ]
     },
     "execution_count": 68,
     "metadata": {},
     "output_type": "execute_result"
    }
   ],
   "source": [
    "df.sample(2)"
   ]
  },
  {
   "cell_type": "markdown",
   "id": "a663dfa5-8e7e-494f-93c0-f1aca989433c",
   "metadata": {},
   "source": [
    "# Extract Sector"
   ]
  },
  {
   "cell_type": "code",
   "execution_count": 69,
   "id": "de2cb8fd-5b6e-4c12-9719-4b0acc1b3e3c",
   "metadata": {},
   "outputs": [],
   "source": [
    "df['sector_id'] = df['sector_long'].apply(lambda x: x.split(' - ')[0]).astype(int)\n",
    "df['sector'] = df['sector_long'].apply(lambda x: x.split(' - ')[1])\n",
    "df = df.drop(labels=['sector_long'], axis=1)"
   ]
  },
  {
   "cell_type": "code",
   "execution_count": null,
   "id": "a72e574d-b356-4bec-9ab0-10b939b26efe",
   "metadata": {},
   "outputs": [],
   "source": []
  },
  {
   "cell_type": "code",
   "execution_count": 72,
   "id": "1b7ca4d1-b557-4373-87b5-4d5a89dcf07e",
   "metadata": {},
   "outputs": [
    {
     "data": {
      "text/html": [
       "<div>\n",
       "<style scoped>\n",
       "    .dataframe tbody tr th:only-of-type {\n",
       "        vertical-align: middle;\n",
       "    }\n",
       "\n",
       "    .dataframe tbody tr th {\n",
       "        vertical-align: top;\n",
       "    }\n",
       "\n",
       "    .dataframe thead th {\n",
       "        text-align: right;\n",
       "    }\n",
       "</style>\n",
       "<table border=\"1\" class=\"dataframe\">\n",
       "  <thead>\n",
       "    <tr style=\"text-align: right;\">\n",
       "      <th></th>\n",
       "      <th>name</th>\n",
       "      <th>sector_id</th>\n",
       "      <th>sector</th>\n",
       "    </tr>\n",
       "  </thead>\n",
       "  <tbody>\n",
       "    <tr>\n",
       "      <th>0</th>\n",
       "      <td>heal ur tech</td>\n",
       "      <td>33140</td>\n",
       "      <td>Repair of electrical equipment</td>\n",
       "    </tr>\n",
       "    <tr>\n",
       "      <th>3</th>\n",
       "      <td>big impact graphics</td>\n",
       "      <td>18129</td>\n",
       "      <td>Printing n.e.c.</td>\n",
       "    </tr>\n",
       "    <tr>\n",
       "      <th>4</th>\n",
       "      <td>goberub</td>\n",
       "      <td>62020</td>\n",
       "      <td>Information technology consultancy activities</td>\n",
       "    </tr>\n",
       "    <tr>\n",
       "      <th>5</th>\n",
       "      <td>nfogenie</td>\n",
       "      <td>58290</td>\n",
       "      <td>Other software publishing</td>\n",
       "    </tr>\n",
       "    <tr>\n",
       "      <th>6</th>\n",
       "      <td>nnov8</td>\n",
       "      <td>62090</td>\n",
       "      <td>Other information technology service activities</td>\n",
       "    </tr>\n",
       "    <tr>\n",
       "      <th>...</th>\n",
       "      <td>...</td>\n",
       "      <td>...</td>\n",
       "      <td>...</td>\n",
       "    </tr>\n",
       "    <tr>\n",
       "      <th>849994</th>\n",
       "      <td>candour consultancy</td>\n",
       "      <td>62090</td>\n",
       "      <td>Other information technology service activities</td>\n",
       "    </tr>\n",
       "    <tr>\n",
       "      <th>849995</th>\n",
       "      <td>candour consultants</td>\n",
       "      <td>96090</td>\n",
       "      <td>Other service activities n.e.c.</td>\n",
       "    </tr>\n",
       "    <tr>\n",
       "      <th>849996</th>\n",
       "      <td>candour consulting</td>\n",
       "      <td>70229</td>\n",
       "      <td>Management consultancy activities other than f...</td>\n",
       "    </tr>\n",
       "    <tr>\n",
       "      <th>849997</th>\n",
       "      <td>candour corporate finance</td>\n",
       "      <td>64999</td>\n",
       "      <td>Financial intermediation not elsewhere classified</td>\n",
       "    </tr>\n",
       "    <tr>\n",
       "      <th>849998</th>\n",
       "      <td>candour creative</td>\n",
       "      <td>59112</td>\n",
       "      <td>Video production activities</td>\n",
       "    </tr>\n",
       "  </tbody>\n",
       "</table>\n",
       "<p>819149 rows × 3 columns</p>\n",
       "</div>"
      ],
      "text/plain": [
       "                             name  sector_id  \\\n",
       "0                    heal ur tech      33140   \n",
       "3             big impact graphics      18129   \n",
       "4                         goberub      62020   \n",
       "5                        nfogenie      58290   \n",
       "6                           nnov8      62090   \n",
       "...                           ...        ...   \n",
       "849994        candour consultancy      62090   \n",
       "849995        candour consultants      96090   \n",
       "849996         candour consulting      70229   \n",
       "849997  candour corporate finance      64999   \n",
       "849998           candour creative      59112   \n",
       "\n",
       "                                                   sector  \n",
       "0                          Repair of electrical equipment  \n",
       "3                                         Printing n.e.c.  \n",
       "4           Information technology consultancy activities  \n",
       "5                               Other software publishing  \n",
       "6         Other information technology service activities  \n",
       "...                                                   ...  \n",
       "849994    Other information technology service activities  \n",
       "849995                    Other service activities n.e.c.  \n",
       "849996  Management consultancy activities other than f...  \n",
       "849997  Financial intermediation not elsewhere classified  \n",
       "849998                        Video production activities  \n",
       "\n",
       "[819149 rows x 3 columns]"
      ]
     },
     "execution_count": 72,
     "metadata": {},
     "output_type": "execute_result"
    }
   ],
   "source": [
    "df"
   ]
  },
  {
   "cell_type": "markdown",
   "id": "4142bbb8-5753-4777-8809-3eb94f1ed9b1",
   "metadata": {},
   "source": [
    "# Fetch URL name"
   ]
  },
  {
   "cell_type": "markdown",
   "id": "8b2ff82f-6886-4842-a773-3a914d44f975",
   "metadata": {},
   "source": [
    "### test api for getting URLS from names"
   ]
  },
  {
   "cell_type": "code",
   "execution_count": 45,
   "id": "8b49c265-1259-4408-9fd6-4e13a3f2a9b0",
   "metadata": {},
   "outputs": [
    {
     "data": {
      "text/plain": [
       "[{'name': 'Standard Chartered',\n",
       "  'domain': 'sc.com',\n",
       "  'logo': 'https://logo.clearbit.com/sc.com'},\n",
       " {'name': 'Standard Chartered Singapore Marathon',\n",
       "  'domain': 'singaporemarathon.com',\n",
       "  'logo': 'https://logo.clearbit.com/singaporemarathon.com'},\n",
       " {'name': 'Standard Chartered',\n",
       "  'domain': 'ssesdurham.org',\n",
       "  'logo': 'https://logo.clearbit.com/ssesdurham.org'}]"
      ]
     },
     "execution_count": 45,
     "metadata": {},
     "output_type": "execute_result"
    }
   ],
   "source": [
    "company_name = \"standard chartered\" \n",
    "base_url = \"https://autocomplete.clearbit.com\"\n",
    "query_url = \"/v1/companies/suggest?query=\"\n",
    "facts = f\"\\\"{company_name}\\\"\"\n",
    "first_response = requests.get(base_url+query_url+facts)\n",
    "response_list=first_response.json()\n",
    "response_list"
   ]
  },
  {
   "cell_type": "code",
   "execution_count": 38,
   "id": "e4a80061-cc58-48ca-86b0-e5d3e11efcb3",
   "metadata": {},
   "outputs": [
    {
     "data": {
      "text/plain": [
       "' b ccc '"
      ]
     },
     "execution_count": 38,
     "metadata": {},
     "output_type": "execute_result"
    }
   ],
   "source": [
    "re.sub('aa|bb', '', 'aa bbb ccc bb')"
   ]
  },
  {
   "cell_type": "markdown",
   "id": "ced6cfda-7b98-4b14-9917-1e96a424f26c",
   "metadata": {},
   "source": [
    "### get URLS"
   ]
  },
  {
   "cell_type": "code",
   "execution_count": 47,
   "id": "e83d1a22-ad81-453d-a050-7ddbe01171bb",
   "metadata": {},
   "outputs": [
    {
     "name": "stderr",
     "output_type": "stream",
     "text": [
      "/var/folders/70/xy86ymm940796lf7988yvm9h0000gn/T/ipykernel_7689/3278442654.py:2: FutureWarning: The behavior of `series[i:j]` with an integer-dtype index is deprecated. In a future version, this will be treated as *label-based* indexing, consistent with e.g. `series[i]` lookups. To retain the old behavior, use `series.iloc[i:j]`. To get the future behavior, use `series.loc[i:j]`.\n",
      "  for name in tqdm(df['CompanyName'][:500]):\n",
      "100%|█████████████████████████████████████████████████████████████████████████████████████████████████████████| 500/500 [03:01<00:00,  2.76it/s]\n"
     ]
    }
   ],
   "source": [
    "company_to_url = {}\n",
    "for name in tqdm(df['CompanyName'][:500]):\n",
    "    response = requests.get(base_url+query_url+ f\"\\\"{name}\\\"\" )\n",
    "    info_list = response.json()\n",
    "    if len(info_list) > 0:\n",
    "        info = info_list[0]\n",
    "        company_to_url[name] = info['domain']"
   ]
  },
  {
   "cell_type": "markdown",
   "id": "f2e197d9-156d-4a58-902e-c5619800f36a",
   "metadata": {},
   "source": [
    "### Disadvantages of this solution:\n",
    "1. There are a lot of false positives - the website we find may not match the company\n",
    "2. the process is slow. Quering 500 company names took 3 minutes\n",
    "\n",
    "This is good for now to create a temporary solution to develop other parts of the project. But this needs to be explored in more detail."
   ]
  },
  {
   "cell_type": "code",
   "execution_count": 48,
   "id": "e25213d3-61cd-4864-8a71-9ffb745345db",
   "metadata": {},
   "outputs": [
    {
     "data": {
      "text/plain": [
       "{'nnov8': 'nnov.ru',\n",
       " 'nspired': 'nspiredbusinesssolutions.com',\n",
       " 'obac': 'obacafe.eu',\n",
       " 't drop': 'tdropmobile.com',\n",
       " '\" bora \" 2': 'boras.se',\n",
       " '\"1 c o \"': 'costco.com',\n",
       " '\"2 ecoute\"': 'ecouterradioenligne.com',\n",
       " '\"20-20 voice\" cancer': '2020voicecancer.org',\n",
       " '\"a\" ceramics': 'a-ceramics.co.uk',\n",
       " '\"a\" concept': 'aconceptproject.com',\n",
       " '\"and breathe\"': 'andbreathewellbeing.com',\n",
       " '\"avicenna-med\"': 'avicennamed.com.ua',\n",
       " '\"b\" cool': 'bcool.as',\n",
       " '\"basi pilates & movement by yvette \"': 'basipilates.it',\n",
       " '\"bigmac \"': 'bigmachineparts.com',\n",
       " '\"cartref ni\"': 'cartrefni.com',\n",
       " '\"cook with me\"': 'cookwithmeg.com',\n",
       " '\"d&c transport and logistic': 'discord.com',\n",
       " '\"el al\" israel airlines': 'elal.com',\n",
       " '\"i&gm company\"': 'indeed.com',\n",
       " '\"jm\"clean': 'cleannwa.com',\n",
       " '\"k\" line (europe)': 'kline-europe.com',\n",
       " '\"little world\"': 'littleworldofsatoshi.com',\n",
       " '\"m&e gb \"': 'msn.com',\n",
       " '\"m-shine\" cleaning service': 'mshinecleaningservices.com',\n",
       " '\"marcin & co \"': 'marciniwuc.com',\n",
       " '\"mothers\\' union\"': 'mothersunion.org',\n",
       " '\"no.54 coffee house\"': 'no7coffeehouseks.com',\n",
       " '\"o\" rings': 'orings-online.net',\n",
       " '\"o\">> (water & stakes)': 'o3water.co.za',\n",
       " '\"off the page\"': 'offthepagecreations.com',\n",
       " '\"p&s \"': 'paypal.com',\n",
       " '\"p.& b.\"engineering company': 'paypal.com',\n",
       " '\"perfectclean\"': 'perfectcleanltd.co.uk',\n",
       " '\"r\" builders': 'astromech.com.es',\n",
       " '\"richardson & associates\" independent financial and mortgage services': 'richardsonsports.com',\n",
       " '\"spectrum training\"': 'spectrumtraining.edu.au',\n",
       " '\"step13\" transport': 'steptransport.dk',\n",
       " '\"the media house\" .': 'the-media-house.co.uk',\n",
       " '\"the raph factor\"': 'theraphfactor.com',\n",
       " '\"v\" installations': 'vinstallations.co.uk',\n",
       " '\"vites\" .': 'vitesco-technologies.com',\n",
       " '\"waffle waffle\"': 'waffle-waffle.org',\n",
       " '\"where do i..\"': 'wheredoivote.co.uk',\n",
       " '\"y\" salon': 'ysalon.co.uk',\n",
       " '\"yes, dear\"': 'yesdearandco.com',\n",
       " '\"zuzia\"': 'zuziazawada.com',\n",
       " '$$ deals $$': 'dealspotr.com',\n",
       " '$10 chimp': 'chimpsnw.org',\n",
       " '$antos': 'antosubash.com',\n",
       " '$ave': 'avery.com',\n",
       " '$ips': 'ipsy.com',\n",
       " '$miths': 'mithshop.com',\n",
       " '$mp': 'mpsc.nsw.gov.au',\n",
       " '$mug': 'mugenfreeforall.com',\n",
       " '$procurement': 'procurementpartners.com',\n",
       " '$werve': 'wervel.be',\n",
       " '$€lf-mad£': 'lfmadrid.net',\n",
       " \"''dimi k''\": 'dimikcomputing.com',\n",
       " \"'2=1(uk)'\": 'uky.edu',\n",
       " \"'71 pvt\": 'pvtimes.com',\n",
       " \"'a & a' self-storage .\": 'adobe.com',\n",
       " \"'a piece of'\": 'apieceofrainbow.com',\n",
       " \"'a' recordings\": 'brianjonestownmassacre.com',\n",
       " \"'all aboard' shops\": 'allaboardshops.com',\n",
       " \"'alleycats2020\": 'alleycatsbowl.com',\n",
       " \"'andy andy\": 'andyandymusic.com',\n",
       " \"'av it media\": 'avitmedia.co.uk',\n",
       " \"'be the change' foods\": 'bethechangefoods.co.uk',\n",
       " \"'building' integrated services\": 'bisedge.com',\n",
       " \"'c' products\": 'c3products.com',\n",
       " \"'central manchester osteopathy & sports therapy\": 'centralmanchesterosteopathy.com',\n",
       " \"'cod' fella's\": 'codfellas.com',\n",
       " \"'de novo' care\": 'denovoccg.co.uk',\n",
       " \"'designblu'\": 'designbluemanila.com',\n",
       " \"'dida\": 'didactic.ro',\n",
       " \"'embraceme' foundation\": 'embracemefoundation.com',\n",
       " \"'eng pa'\": 'engpartner.com',\n",
       " \"'hire one'\": 'hire-one.hu',\n",
       " \"'inab\": 'inaba.ac.id',\n",
       " \"'j' freight\": 'jfreightbd.com',\n",
       " \"'just love'\": 'justlovecoffeecafe.com',\n",
       " \"'learn to love to read'\": 'learn2love2read.org.uk',\n",
       " \"'ll motors\": 'llmotorsla.com',\n",
       " \"'m' coat\": 'mcoatelier.com',\n",
       " \"'o sole mio\": 'osolemio-glasgow.com',\n",
       " \"'o' connor fencing\": 'oconnorfencing.co.uk',\n",
       " \"'on the edge' fusion youth orchestra\": 'ontheedgefusionyouthorchestra.com',\n",
       " \"'ot sauce\": 'otsauce.co.uk',\n",
       " \"'plane training\": 'planetraining.co.uk',\n",
       " \"'q' accountancy services\": 'q-accountancy.com.au',\n",
       " \"'r' buddy\": 'rbuddy.co.uk',\n",
       " \"'r'-elp .\": 'relpro.com',\n",
       " \"'rase solutions'\": 'rasesolutions.com',\n",
       " \"'ropes & rigging' rope access\": 'ropesgray.com',\n",
       " \"'round me\": 'roundme.com',\n",
       " \"'stand easy'\": 'standeasy.org.uk',\n",
       " \"'the black gardener'\": 'theblackgardener.co.uk',\n",
       " \"'the light' (uk)\": 'thelightuk.org',\n",
       " \"'toc h'\": 'tochka.net',\n",
       " \"'walk in style'\": 'walkinstyle.co.uk',\n",
       " \"'weddingbooker.com'\": 'weddingbooker.com',\n",
       " '(4) 5337 support services': 'supsrv.com',\n",
       " '(aq)': 'aquent.com',\n",
       " '(b a home)': 'bahomedia.ca',\n",
       " '(b&h) restaurant': 'booking.com'}"
      ]
     },
     "execution_count": 48,
     "metadata": {},
     "output_type": "execute_result"
    }
   ],
   "source": [
    "company_to_url"
   ]
  },
  {
   "cell_type": "code",
   "execution_count": null,
   "id": "f2018539-ece2-4373-a001-8e0782cbe2a2",
   "metadata": {},
   "outputs": [],
   "source": []
  }
 ],
 "metadata": {
  "kernelspec": {
   "display_name": "Python 3 (ipykernel)",
   "language": "python",
   "name": "python3"
  },
  "language_info": {
   "codemirror_mode": {
    "name": "ipython",
    "version": 3
   },
   "file_extension": ".py",
   "mimetype": "text/x-python",
   "name": "python",
   "nbconvert_exporter": "python",
   "pygments_lexer": "ipython3",
   "version": "3.9.6"
  }
 },
 "nbformat": 4,
 "nbformat_minor": 5
}
